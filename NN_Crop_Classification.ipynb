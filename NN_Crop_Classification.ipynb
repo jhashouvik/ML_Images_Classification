{
 "cells": [
  {
   "cell_type": "markdown",
   "metadata": {},
   "source": [
    "Neural Network for Satellite Data Classification Using Tensorflow"
   ]
  },
  {
   "cell_type": "code",
   "execution_count": null,
   "metadata": {},
   "outputs": [],
   "source": [
    "import os\n",
    "from pyrsgis import raster"
   ]
  },
  {
   "cell_type": "code",
   "execution_count": 2,
   "metadata": {},
   "outputs": [],
   "source": [
    "Input_Data = 'D:\\DL_WORK\\Sentinal_SEPT_Jesus_Maria.tif'\n",
    "Input_Classified = 'D:\\DL_Work\\Re_Clsied_APR_Jesus_Maria.tif'\n",
    "Input_Prediction = 'D:\\DL_Work\\Sentinel2_Sept_Amacueca.tif'"
   ]
  },
  {
   "cell_type": "code",
   "execution_count": 3,
   "metadata": {},
   "outputs": [],
   "source": [
    "# Read the rasters as array\n",
    "ds1, features_Input = raster.read(Input_Data, bands='all')\n",
    "ds2, label_Classified = raster.read(Input_Classified, bands=1)\n",
    "ds3, features_Prediction = raster.read(Input_Prediction, bands='all')"
   ]
  },
  {
   "cell_type": "code",
   "execution_count": 4,
   "metadata": {},
   "outputs": [
    {
     "name": "stdout",
     "output_type": "stream",
     "text": [
      "multispectral image shape:  (4, 2861, 3663)\n",
      "binary Classified image shape:  (2861, 3663)\n",
      "Prediction multispectral image shape:  (4, 1789, 1644)\n"
     ]
    }
   ],
   "source": [
    "print(\"multispectral image shape: \", features_Input.shape)\n",
    "print(\"binary Classified image shape: \", label_Classified.shape)\n",
    "print(\"Prediction multispectral image shape: \", features_Prediction.shape)"
   ]
  },
  {
   "cell_type": "code",
   "execution_count": 5,
   "metadata": {},
   "outputs": [
    {
     "name": "stdout",
     "output_type": "stream",
     "text": [
      "Input multispectral image shape:  (10479843, 4)\n",
      "binary built-up image shape:  (10479843,)\n",
      "Prediction multispectral image shape:  (2941116, 4)\n"
     ]
    }
   ],
   "source": [
    "from pyrsgis.convert import changeDimension\n",
    "\n",
    "features_Input = changeDimension(features_Input)\n",
    "label_Classified = changeDimension (label_Classified)\n",
    "features_Prediction = changeDimension(features_Prediction)\n",
    "nBands = features_Input.shape[1]\n",
    "label_Input_Feature = (label_Classified == 1).astype(int)\n",
    "\n",
    "print(\"Input multispectral image shape: \", features_Input.shape)\n",
    "print(\"binary built-up image shape: \", label_Classified.shape)\n",
    "print(\"Prediction multispectral image shape: \", features_Prediction.shape)"
   ]
  },
  {
   "cell_type": "code",
   "execution_count": 6,
   "metadata": {},
   "outputs": [
    {
     "name": "stdout",
     "output_type": "stream",
     "text": [
      "(6287905, 4)\n",
      "(6287905,)\n",
      "(4191938, 4)\n",
      "(4191938,)\n"
     ]
    }
   ],
   "source": [
    "from sklearn.model_selection import train_test_split\n",
    "\n",
    "xTrain, xTest, yTrain, yTest = train_test_split(features_Input, label_Classified, test_size=0.4, random_state=42)\n",
    "\n",
    "print(xTrain.shape)\n",
    "print(yTrain.shape)\n",
    "\n",
    "print(xTest.shape)\n",
    "print(yTest.shape)"
   ]
  },
  {
   "cell_type": "code",
   "execution_count": 7,
   "metadata": {},
   "outputs": [
    {
     "name": "stdout",
     "output_type": "stream",
     "text": [
      "(6287905, 1, 4) (4191938, 1, 4) (2941116, 1, 4)\n"
     ]
    }
   ],
   "source": [
    "# Normalise the data\n",
    "xTrain = xTrain / 255.0\n",
    "xTest = xTest / 255.0\n",
    "features_Prediction = features_Prediction / 255.0\n",
    "\n",
    "# Reshape the data\n",
    "xTrain = xTrain.reshape((xTrain.shape[0], 1, xTrain.shape[1]))\n",
    "xTest = xTest.reshape((xTest.shape[0], 1, xTest.shape[1]))\n",
    "features_Prediction = features_Prediction.reshape((features_Prediction.shape[0], 1, features_Prediction.shape[1]))\n",
    "\n",
    "# Print the shape of reshaped data\n",
    "print(xTrain.shape, xTest.shape, features_Prediction.shape)"
   ]
  },
  {
   "cell_type": "code",
   "execution_count": 8,
   "metadata": {},
   "outputs": [
    {
     "name": "stdout",
     "output_type": "stream",
     "text": [
      "Epoch 1/2\n",
      "196498/196498 [==============================] - 100s 511us/step - loss: 0.2694 - accuracy: 0.8944\n",
      "Epoch 2/2\n",
      "196498/196498 [==============================] - 144s 732us/step - loss: 0.2584 - accuracy: 0.8987\n"
     ]
    },
    {
     "data": {
      "text/plain": [
       "<tensorflow.python.keras.callbacks.History at 0x2a4d7f331c8>"
      ]
     },
     "execution_count": 8,
     "metadata": {},
     "output_type": "execute_result"
    }
   ],
   "source": [
    "from tensorflow import keras\n",
    "\n",
    "# Define the parameters of the model\n",
    "model = keras.Sequential([\n",
    "    keras.layers.Flatten(input_shape=(1, nBands)),\n",
    "    keras.layers.Dense(14, activation='relu'),\n",
    "    keras.layers.Dense(2, activation='softmax')])\n",
    "\n",
    "# Define the accuracy metrics and parameters\n",
    "model.compile(optimizer=\"adam\", loss=\"sparse_categorical_crossentropy\", metrics=[\"accuracy\"])\n",
    "\n",
    "# Run the model\n",
    "model.fit(xTrain, yTrain, epochs=2)"
   ]
  },
  {
   "cell_type": "code",
   "execution_count": 9,
   "metadata": {},
   "outputs": [
    {
     "name": "stdout",
     "output_type": "stream",
     "text": [
      "Confusion matrix: for 14 nodes\n",
      " [[3629915   54399]\n",
      " [ 365607  142017]]\n",
      "\n",
      "P-Score: 0.723, R-Score: 0.280\n"
     ]
    }
   ],
   "source": [
    "from sklearn.metrics import confusion_matrix, precision_score, recall_score\n",
    "\n",
    "# Predict for test data \n",
    "yTestPredicted = model.predict(xTest)\n",
    "yTestPredicted = yTestPredicted[:,1]\n",
    "\n",
    "# Calculate and display the error metrics\n",
    "yTestPredicted = (yTestPredicted>0.5).astype(int)\n",
    "cMatrix = confusion_matrix(yTest, yTestPredicted)\n",
    "pScore = precision_score(yTest, yTestPredicted)\n",
    "rScore = recall_score(yTest, yTestPredicted)\n",
    "\n",
    "print(\"Confusion matrix: for 14 nodes\\n\", cMatrix)\n",
    "print(\"\\nP-Score: %.3f, R-Score: %.3f\" % (pScore, rScore))"
   ]
  },
  {
   "cell_type": "code",
   "execution_count": 10,
   "metadata": {},
   "outputs": [],
   "source": [
    "import numpy as np\n",
    "predicted = model.predict(features_Prediction)\n",
    "predicted = predicted[:,1]\n",
    "\n",
    "#Export raster\n",
    "prediction = np.reshape(predicted, (ds3.RasterYSize, ds3.RasterXSize))\n",
    "outFile = 'D:\\DL_WORK\\ANN_Sept_Amacueca12.tif'\n",
    "raster.export(prediction, ds3, filename=outFile, dtype='float')"
   ]
  }
 ],
 "metadata": {
  "kernelspec": {
   "display_name": "Python 3",
   "language": "python",
   "name": "python3"
  },
  "language_info": {
   "codemirror_mode": {
    "name": "ipython",
    "version": 3
   },
   "file_extension": ".py",
   "mimetype": "text/x-python",
   "name": "python",
   "nbconvert_exporter": "python",
   "pygments_lexer": "ipython3",
   "version": "3.7.4"
  }
 },
 "nbformat": 4,
 "nbformat_minor": 4
}
